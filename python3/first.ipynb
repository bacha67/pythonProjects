{
 "cells": [
  {
   "cell_type": "code",
   "execution_count": null,
   "metadata": {},
   "outputs": [
    {
     "ename": "",
     "evalue": "",
     "output_type": "error",
     "traceback": [
      "\u001b[1;31mRunning cells with 'Python 3.13.0' requires the ipykernel package.\n",
      "\u001b[1;31mRun the following command to install 'ipykernel' into the Python environment. \n",
      "\u001b[1;31mCommand: '/usr/local/bin/python3 -m pip install ipykernel -U --user --force-reinstall'"
     ]
    }
   ],
   "source": [
    "import random"
   ]
  },
  {
   "cell_type": "code",
   "execution_count": null,
   "metadata": {},
   "outputs": [],
   "source": [
    "def guessingGame():\n",
    "    secret_number = random.randint(1, 100)\n",
    "    attempts = 0\n",
    "    print(\"Welcome to the number guessing game!\")\n",
    "\n",
    "    while True:\n",
    "        try:\n",
    "            guess = int(input(\"Please enter a valid number (between 1 and 100): \"))\n",
    "        except ValueError:\n",
    "            print(\"Please enter a valid number.\")\n",
    "            continue\n",
    "\n",
    "        attempts = 1\n",
    "\n",
    "        if guess > secret_number:\n",
    "            print(\"Too high\")\n",
    "        elif guess < secret_number:\n",
    "            print(\"Too low\")\n",
    "        else:\n",
    "            print(f\"Correct! The secret number is {secret_number}. You made {attempts} attempts.\")\n",
    "            break"
   ]
  },
  {
   "cell_type": "code",
   "execution_count": null,
   "metadata": {},
   "outputs": [],
   "source": [
    "if name ==\"main\":\n",
    "        \n",
    "        gussingGame()"
   ]
  }
 ],
 "metadata": {
  "kernelspec": {
   "display_name": "Python 3",
   "language": "python",
   "name": "python3"
  },
  "language_info": {
   "name": "python",
   "version": "3.13.0"
  }
 },
 "nbformat": 4,
 "nbformat_minor": 2
}
